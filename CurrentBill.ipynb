{
  "nbformat": 4,
  "nbformat_minor": 0,
  "metadata": {
    "colab": {
      "provenance": []
    },
    "kernelspec": {
      "name": "python3",
      "display_name": "Python 3"
    },
    "language_info": {
      "name": "python"
    }
  },
  "cells": [
    {
      "cell_type": "code",
      "source": [
        "def fixedRate(units):\n",
        "  if(units<31):\n",
        "    rate = 120\n",
        "  elif(units<61):\n",
        "    rate = 240\n",
        "  elif(units<91):\n",
        "    rate = 360\n",
        "  elif(units<181):\n",
        "    rate = 960\n",
        "  else:\n",
        "    rate = 1500\n",
        "  return rate\n",
        "\n",
        "def ratePerUnit(units):\n",
        "  if(units<31):\n",
        "    rate = 8\n",
        "  elif(units<61):\n",
        "    rate = 10\n",
        "  elif(units<91):\n",
        "    rate = 16\n",
        "  elif(units<181):\n",
        "    rate = 50\n",
        "  else:\n",
        "    rate = 75\n",
        "  return rate"
      ],
      "metadata": {
        "id": "E-Tr2w2b3cHk"
      },
      "execution_count": 7,
      "outputs": []
    },
    {
      "cell_type": "code",
      "execution_count": 12,
      "metadata": {
        "id": "5eqw0Cqb24Va"
      },
      "outputs": [],
      "source": [
        "def calculatorCurrentBill(units):\n",
        "  if(units<=30):\n",
        "    return fixedRate(units)+units*ratePerUnit(units)\n",
        "  elif(units<=60):\n",
        "    return fixedRate(units)+(units-30)*ratePerUnit(units)+30*ratePerUnit(30)\n",
        "  elif(units<=90):\n",
        "    return fixedRate(units)+(units-60)*ratePerUnit(units)+calculatorCurrentBill(60)-fixedRate(60)\n",
        "  elif(units<=180):\n",
        "    return fixedRate(units)+(units-90)*ratePerUnit(units)+calculatorCurrentBill(90)-fixedRate(90)\n",
        "  else:\n",
        "    return fixedRate(units)+(units-180)*ratePerUnit(units)+calculatorCurrentBill(180)-fixedRate(180)\n",
        "  \n",
        "print(\"Total: \", calculatorCurrentBill(150))"
      ]
    },
    {
      "cell_type": "code",
      "source": [
        "print(\"Enter monthly usage in Units: \")\n",
        "units= input()\n",
        "units = int(units)\n",
        "\n",
        "print(\"Your total bill: \", calculatorCurrentBill(units))"
      ],
      "metadata": {
        "colab": {
          "base_uri": "https://localhost:8080/"
        },
        "id": "8u1M-clEG8z7",
        "outputId": "d562031d-f27f-4e53-fe54-c94937f00ffa"
      },
      "execution_count": 21,
      "outputs": [
        {
          "output_type": "stream",
          "name": "stdout",
          "text": [
            "Enter monthly usage in Units: \n",
            "200\n",
            "Your total bill:  8520\n"
          ]
        }
      ]
    }
  ]
}